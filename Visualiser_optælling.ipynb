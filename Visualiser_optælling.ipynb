{
 "cells": [
  {
   "cell_type": "code",
   "execution_count": 16,
   "id": "1a9c8f65",
   "metadata": {},
   "outputs": [
    {
     "name": "stdout",
     "output_type": "stream",
     "text": [
      "Mette er A\n",
      "Nick er A\n",
      "Pia er F\n",
      "Mogens er A\n",
      "Jacob er V\n",
      "Jacob er V\n",
      "Søren er C\n"
     ]
    }
   ],
   "source": [
    "# input-teksten\n",
    "txt = [\"Mette\", \"ringede\", \"først\", \"til\", \"Nick\", \"så\", \"til\", \"Pia\", \"og\", \"Mogens\", \"og\", \"først\", \"til\", \"sidst\", \"til\", \"Jacob\", \"bagefter\", \"ringede\", \"Jacob\", \"til\", \"Søren\"]\n",
    "\n",
    "# dictionary\n",
    "dict_2 = {\n",
    "    \"Mette\": \"A\",\n",
    "    \"Mogens\": \"A\",\n",
    "    \"Søren\": \"C\",\n",
    "    \"Nick\": \"A\",\n",
    "    \"Pia\": \"F\",\n",
    "    \"Jacob\": \"V\"\n",
    "}\n",
    "\n",
    "\n",
    "# loop der beregner den salede score\n",
    "for w in txt:\n",
    "    for k, v in dict_2.items():\n",
    "        if w == k:\n",
    "            print(k, \"er\", v)\n",
    "        \n",
    "        \n",
    "            \n",
    "            "
   ]
  },
  {
   "cell_type": "code",
   "execution_count": 17,
   "id": "ad251888",
   "metadata": {},
   "outputs": [],
   "source": [
    "from collections import Counter\n",
    "\n",
    "labels = []\n",
    "for w in txt:\n",
    "    for k, v in dict_2.items():\n",
    "        if w == k:\n",
    "            labels.append(v)\n",
    "            \n",
    "\n"
   ]
  },
  {
   "cell_type": "code",
   "execution_count": 18,
   "id": "4621e5be",
   "metadata": {},
   "outputs": [
    {
     "data": {
      "text/plain": [
       "['A', 'A', 'F', 'A', 'V', 'V', 'C']"
      ]
     },
     "execution_count": 18,
     "metadata": {},
     "output_type": "execute_result"
    }
   ],
   "source": [
    "labels"
   ]
  },
  {
   "cell_type": "code",
   "execution_count": 19,
   "id": "8feaa1fc",
   "metadata": {},
   "outputs": [
    {
     "name": "stdout",
     "output_type": "stream",
     "text": [
      "Counter({'A': 3, 'V': 2, 'F': 1, 'C': 1})\n"
     ]
    }
   ],
   "source": [
    "counts = Counter(labels)\n",
    "print(counts)"
   ]
  },
  {
   "cell_type": "code",
   "execution_count": 20,
   "id": "bc1f8cf1",
   "metadata": {},
   "outputs": [
    {
     "data": {
      "text/plain": [
       "Counter({'A': 3, 'F': 1, 'V': 2, 'C': 1})"
      ]
     },
     "execution_count": 20,
     "metadata": {},
     "output_type": "execute_result"
    }
   ],
   "source": [
    "counts"
   ]
  },
  {
   "cell_type": "code",
   "execution_count": 27,
   "id": "a8afefa7",
   "metadata": {},
   "outputs": [
    {
     "data": {
      "image/png": "[encoded data removed]",
      "text/plain": [
       "<Figure size 432x288 with 1 Axes>"
      ]
     },
     "metadata": {},
     "output_type": "display_data"
    }
   ],
   "source": [
    "import matplotlib.pyplot as plt\n",
    "\n",
    "data = counts\n",
    "names = list(data.keys())\n",
    "values = list(data.values())\n",
    "\n",
    "\n",
    "plt.pie(values, labels=names)\n",
    "plt.show()"
   ]
  },
  {
   "cell_type": "code",
   "execution_count": 28,
   "id": "cb4a4cd4",
   "metadata": {},
   "outputs": [
    {
     "data": {
      "text/plain": [
       "<BarContainer object of 4 artists>"
      ]
     },
     "execution_count": 28,
     "metadata": {},
     "output_type": "execute_result"
    },
    {
     "data": {
      "image/png": "[encoded data removed]",
      "text/plain": [
       "<Figure size 432x288 with 1 Axes>"
      ]
     },
     "metadata": {
      "needs_background": "light"
     },
     "output_type": "display_data"
    }
   ],
   "source": [
    "plt.bar(range(len(data)), values, tick_label=names)"
   ]
  },
  {
   "cell_type": "code",
   "execution_count": null,
   "id": "86282320",
   "metadata": {},
   "outputs": [],
   "source": []
  }
 ],
 "metadata": {
  "kernelspec": {
   "display_name": "Python 3 (ipykernel)",
   "language": "python",
   "name": "python3"
  },
  "language_info": {
   "codemirror_mode": {
    "name": "ipython",
    "version": 3
   },
   "file_extension": ".py",
   "mimetype": "text/x-python",
   "name": "python",
   "nbconvert_exporter": "python",
   "pygments_lexer": "ipython3",
   "version": "3.9.7"
  }
 },
 "nbformat": 4,
 "nbformat_minor": 5
}
